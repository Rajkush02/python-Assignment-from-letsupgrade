{
  "nbformat": 4,
  "nbformat_minor": 0,
  "metadata": {
    "colab": {
      "provenance": [],
      "authorship_tag": "ABX9TyNeNpqn2sRCa+yuD6f5p6VK",
      "include_colab_link": true
    },
    "kernelspec": {
      "name": "python3",
      "display_name": "Python 3"
    },
    "language_info": {
      "name": "python"
    }
  },
  "cells": [
    {
      "cell_type": "markdown",
      "metadata": {
        "id": "view-in-github",
        "colab_type": "text"
      },
      "source": [
        "<a href=\"https://colab.research.google.com/github/Rajkush02/python-Assignment-from-letsupgrade/blob/main/Workshop%201%20days%20by%20arun%20kumar%20iit.ipynb\" target=\"_parent\"><img src=\"https://colab.research.google.com/assets/colab-badge.svg\" alt=\"Open In Colab\"/></a>"
      ]
    },
    {
      "cell_type": "code",
      "execution_count": 1,
      "metadata": {
        "colab": {
          "base_uri": "https://localhost:8080/"
        },
        "id": "qpg1HQmguOVG",
        "outputId": "eb49aba3-60ef-4436-cc2b-995c37747cdb"
      },
      "outputs": [
        {
          "output_type": "execute_result",
          "data": {
            "text/plain": [
              "dict"
            ]
          },
          "metadata": {},
          "execution_count": 1
        }
      ],
      "source": [
        "#Dictionary in python\n",
        "x={\"key1\":1,\"Key2\":5,\"key3\":[1,2,3],\"key4\":4}\n",
        "type(x)"
      ]
    },
    {
      "cell_type": "code",
      "source": [
        "y={\"k1\":1,\"k2\":3}\n",
        "print(y[\"k2\"])"
      ],
      "metadata": {
        "colab": {
          "base_uri": "https://localhost:8080/"
        },
        "id": "DPL-gg1vu3hC",
        "outputId": "e2642aab-ab34-40c3-b48d-1f996ee059d7"
      },
      "execution_count": 5,
      "outputs": [
        {
          "output_type": "stream",
          "name": "stdout",
          "text": [
            "3\n"
          ]
        }
      ]
    },
    {
      "cell_type": "code",
      "source": [
        "\n",
        "#Student Data"
      ],
      "metadata": {
        "id": "9DcFppK5vQeB"
      },
      "execution_count": null,
      "outputs": []
    },
    {
      "cell_type": "code",
      "source": [
        "studentData={\"2022CS1\":[\"Ram\",\"20-03-2000\",\"CSE\"]}\n",
        "studentData[\"2022CS1\"]"
      ],
      "metadata": {
        "colab": {
          "base_uri": "https://localhost:8080/"
        },
        "id": "lHmP8Wa2vTM9",
        "outputId": "03cc77b8-bd25-4630-f8d0-4fd7a3d64a4b"
      },
      "execution_count": 6,
      "outputs": [
        {
          "output_type": "execute_result",
          "data": {
            "text/plain": [
              "['Ram', '20-03-2000', 'CSE']"
            ]
          },
          "metadata": {},
          "execution_count": 6
        }
      ]
    },
    {
      "cell_type": "code",
      "source": [
        "#int, float, str, list, tuple, dict, bool\n"
      ],
      "metadata": {
        "id": "AWYSiJDRv1Db"
      },
      "execution_count": null,
      "outputs": []
    },
    {
      "cell_type": "code",
      "source": [],
      "metadata": {
        "id": "hxoMMOf3vpdR"
      },
      "execution_count": null,
      "outputs": []
    }
  ]
}