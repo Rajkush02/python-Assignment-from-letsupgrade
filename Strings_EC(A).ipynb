{
  "nbformat": 4,
  "nbformat_minor": 0,
  "metadata": {
    "colab": {
      "provenance": [],
      "collapsed_sections": [],
      "include_colab_link": true
    },
    "kernelspec": {
      "name": "python3",
      "display_name": "Python 3",
      "language": "python"
    }
  },
  "cells": [
    {
      "cell_type": "markdown",
      "metadata": {
        "id": "view-in-github",
        "colab_type": "text"
      },
      "source": [
        "<a href=\"https://colab.research.google.com/github/Rajkush02/python-Assignment-from-letsupgrade/blob/main/Strings_EC(A).ipynb\" target=\"_parent\"><img src=\"https://colab.research.google.com/assets/colab-badge.svg\" alt=\"Open In Colab\"/></a>"
      ]
    },
    {
      "cell_type": "markdown",
      "metadata": {
        "id": "UK9FhcLGREnK"
      },
      "source": [
        "# **Strings:**"
      ]
    },
    {
      "cell_type": "markdown",
      "metadata": {
        "id": "WEGXlwG-RHAa"
      },
      "source": [
        "<p align=\"justify\">A string is a sequence of characters that may be a combination of letters,numbers, and special symbols. To define a string in Python, you can enclose the string in matching single or double quotes:"
      ]
    },
    {
      "cell_type": "markdown",
      "metadata": {
        "id": "G-IRut9bRNHj"
      },
      "source": [
        "<p align=\"justify\">string1 = ‘I am enclosed in single quotes.’\n",
        "\n",
        "<p align=\"justify\">string2 = “I am enclosed in double quotes.”\n"
      ]
    },
    {
      "cell_type": "markdown",
      "metadata": {
        "id": "g6AnrLx4SjDT"
      },
      "source": [
        "# **String Indexing:**"
      ]
    },
    {
      "cell_type": "markdown",
      "metadata": {
        "id": "sHaBijDnS5ve"
      },
      "source": [
        "![alt text](https://www.learnbyexample.org/wp-content/uploads/python/String-Indexing.png)"
      ]
    },
    {
      "cell_type": "code",
      "source": [
        "str1=\"hello python\"\n",
        "print(str1[6:2:])"
      ],
      "metadata": {
        "colab": {
          "base_uri": "https://localhost:8080/"
        },
        "id": "cY3EFStQWy7o",
        "outputId": "1bb0025a-14cc-4eea-946f-d1e55e489497"
      },
      "execution_count": null,
      "outputs": [
        {
          "output_type": "stream",
          "name": "stdout",
          "text": [
            "he\n",
            "lo\n",
            "yh\n",
            "nohtyp olleh\n"
          ]
        }
      ]
    },
    {
      "cell_type": "markdown",
      "metadata": {
        "id": "FKPx7SO5TfUY"
      },
      "source": [
        "# **Length of String:**"
      ]
    },
    {
      "cell_type": "markdown",
      "metadata": {
        "id": "ZF_jRpumT6Zi"
      },
      "source": [
        "# **Concatenating Strings:**"
      ]
    },
    {
      "cell_type": "markdown",
      "metadata": {
        "id": "YapsIEj9UGIS"
      },
      "source": [
        "# **Repeating Strings:** "
      ]
    },
    {
      "cell_type": "markdown",
      "metadata": {
        "id": "HP4IiWYOUQJV"
      },
      "source": [
        "# **Slicing Strings:**"
      ]
    },
    {
      "cell_type": "markdown",
      "metadata": {
        "id": "zLGWMHDoVX7s"
      },
      "source": [
        "# **.format():**"
      ]
    },
    {
      "cell_type": "markdown",
      "metadata": {
        "id": "TXIRPpOWWbZU"
      },
      "source": [
        "# **f string:**"
      ]
    },
    {
      "cell_type": "markdown",
      "metadata": {
        "id": "diM-d140W1u7"
      },
      "source": [
        "# **String methods:**"
      ]
    },
    {
      "cell_type": "markdown",
      "metadata": {
        "id": "_T0i6S8IXkk5"
      },
      "source": [
        "# **a).split()**\n",
        "\n",
        "<p align=\"justify\">split method splits a string into a list.You can specify the separator, default separator is any whitespace.\n",
        "\n",
        "**Syntax:**\n",
        "\n",
        "string.split(separator, maxsplit)"
      ]
    },
    {
      "cell_type": "markdown",
      "metadata": {
        "id": "VGjPA_cqYCb4"
      },
      "source": [
        "# **b).splitlines()**\n",
        "\n",
        "<p align=\"justify\">The splitlines() method splits a string into a list. The splitting is done at line breaks.\n",
        "\n",
        "**Synatx:**\n",
        "\n",
        "string.splitlines()"
      ]
    },
    {
      "cell_type": "code",
      "source": [
        "str1=\"this is \\n first  \\n statement\"\n",
        "list1=str1.splitlines()\n",
        "print(list1)"
      ],
      "metadata": {
        "colab": {
          "base_uri": "https://localhost:8080/"
        },
        "id": "-kpCwWO-bH4K",
        "outputId": "d4718093-e1d3-4e30-9cbf-5be3cbc6e09b"
      },
      "execution_count": null,
      "outputs": [
        {
          "output_type": "stream",
          "name": "stdout",
          "text": [
            "['this is ', ' first  ', ' statement']\n"
          ]
        }
      ]
    },
    {
      "cell_type": "markdown",
      "metadata": {
        "id": "94lIpg_CY0Oy"
      },
      "source": [
        "# **c).replace()**\n",
        "\n",
        "<p align=\"justify\">The replace() method replaces a specified phrase with another specified phrase.\n",
        "\n",
        "**Syntax:**\n",
        "\n",
        "string.replace(oldvalue, newvalue, count)"
      ]
    },
    {
      "cell_type": "code",
      "source": [
        "str1=\"this is my first statement first\"\n",
        "str2=str1.replace(\"first\",\"second\",1)\n",
        "print(str2)"
      ],
      "metadata": {
        "colab": {
          "base_uri": "https://localhost:8080/"
        },
        "id": "0_jD15b3cdk9",
        "outputId": "97d058ca-eb33-40e5-9848-39c5881e4561"
      },
      "execution_count": null,
      "outputs": [
        {
          "output_type": "stream",
          "name": "stdout",
          "text": [
            "this is my second statement first\n"
          ]
        }
      ]
    },
    {
      "cell_type": "markdown",
      "metadata": {
        "id": "RkLS_0-gZHQF"
      },
      "source": [
        "# **d).lower()**\n",
        "\n",
        "<p align=\"justify\">The lower() method returns a string where all characters are lower case.Symbols and Numbers are ignored.\n",
        "\n",
        "**Syntax:**\n",
        "\n",
        "string.lower()"
      ]
    },
    {
      "cell_type": "markdown",
      "metadata": {
        "id": "UdqE8ViYZP-p"
      },
      "source": [
        "# **e).upper()**\n",
        "\n",
        "<p align=\"justify\">The upper() method returns a string where all characters are upper case.Symbols and Numbers are ignored.\n",
        "\n",
        "**Syntax:**\n",
        "\n",
        "string.upper()"
      ]
    },
    {
      "cell_type": "markdown",
      "metadata": {
        "id": "m1ja2_78ZgiX"
      },
      "source": [
        "# **f).startswith()**\n",
        "\n",
        "<p align=\"justify\">The startswith() method returns True if the string starts with the specified value, otherwise False.\n",
        "\n",
        "**Syntax:**\n",
        "\n",
        "string.startswith(value, start, end)"
      ]
    },
    {
      "cell_type": "code",
      "source": [
        "str1=\"this is my first statement\"\n",
        "print(str1.startswith(\"first\",11,20))"
      ],
      "metadata": {
        "colab": {
          "base_uri": "https://localhost:8080/"
        },
        "id": "A59BRBckf2uV",
        "outputId": "7abad016-a800-4391-f302-a4cf1d8a19ba"
      },
      "execution_count": null,
      "outputs": [
        {
          "output_type": "stream",
          "name": "stdout",
          "text": [
            "True\n"
          ]
        }
      ]
    },
    {
      "cell_type": "markdown",
      "metadata": {
        "id": "ZIL9dQqxZrBf"
      },
      "source": [
        "# **g).endswith()**\n",
        "\n",
        "<p align=\"justify\">The endswith() method returns True if the string ends with the specified value, otherwise False.\n",
        "\n",
        "**Syntax:**\n",
        "\n",
        "string.endswith(value, start, end)"
      ]
    },
    {
      "cell_type": "code",
      "source": [
        "str1=\"this is my first statement\"\n",
        "print(str1.endswith(\"statement\",2,15))"
      ],
      "metadata": {
        "colab": {
          "base_uri": "https://localhost:8080/"
        },
        "id": "NTt4yXj8htWE",
        "outputId": "c8036532-781e-417b-fe51-e48a2af20992"
      },
      "execution_count": null,
      "outputs": [
        {
          "output_type": "stream",
          "name": "stdout",
          "text": [
            "False\n"
          ]
        }
      ]
    },
    {
      "cell_type": "markdown",
      "metadata": {
        "id": "9O8YINzkaNYy"
      },
      "source": [
        "# **h).title()**\n",
        "\n",
        "<p align=\"justify\">The title() method returns a string where the first character in every word is upper case. Like a header, or a title.If the word contains a number or a symbol, the first letter after that will be converted to upper case.\n",
        "\n",
        "**Syntax:**\n",
        "\n",
        "string.title()"
      ]
    },
    {
      "cell_type": "markdown",
      "metadata": {
        "id": "T-iXP9KEa4zM"
      },
      "source": [
        "# **i).index()**\n",
        "\n",
        "<p align=\"justify\">The index() method finds the first occurrence of the specified value.The index() method raises an exception if the value is not found.\n",
        "\n",
        "**Syntax:**\n",
        "\n",
        "string.index(value, start, end)"
      ]
    },
    {
      "cell_type": "code",
      "source": [
        "str1=\"hello\"\n",
        "print(str1.index(\"ell\"))"
      ],
      "metadata": {
        "colab": {
          "base_uri": "https://localhost:8080/"
        },
        "id": "N8-FjSSEiKtb",
        "outputId": "3862841f-8b15-4188-a32c-df5648e567b7"
      },
      "execution_count": null,
      "outputs": [
        {
          "output_type": "stream",
          "name": "stdout",
          "text": [
            "1\n"
          ]
        }
      ]
    },
    {
      "cell_type": "markdown",
      "metadata": {
        "id": "fzA8b8UgbUfh"
      },
      "source": [
        "# **j).count()**\n",
        "\n",
        "<p align=\"justify\">The count() method returns the number of times a specified value appears in the string.\n",
        "\n",
        "**Syntax:**\n",
        "\n",
        "string.count(value, start, end)\n"
      ]
    },
    {
      "cell_type": "code",
      "source": [
        "str1=\"hello\"\n",
        "print(str1.count(\"ll\"))"
      ],
      "metadata": {
        "colab": {
          "base_uri": "https://localhost:8080/"
        },
        "id": "4k7w-3nEjx03",
        "outputId": "15b80978-eecc-4672-8e2a-acb5cd386fa6"
      },
      "execution_count": null,
      "outputs": [
        {
          "output_type": "stream",
          "name": "stdout",
          "text": [
            "2\n"
          ]
        }
      ]
    },
    {
      "cell_type": "markdown",
      "metadata": {
        "id": "e9-SHJkqbrgt"
      },
      "source": [
        "# **k).islower()**\n",
        "\n",
        "<p align=\"justify\">The islower() method returns True if all the characters are in lower case, otherwise False.Numbers, symbols and spaces are not checked, only alphabet characters.\n",
        "\n",
        "**Syntax:**\n",
        "\n",
        "string.islower()"
      ]
    },
    {
      "cell_type": "markdown",
      "metadata": {
        "id": "qR3ik_5qb4MC"
      },
      "source": [
        "# **l). isupper()**\n",
        "\n",
        "<p align=\"justify\">The isupper() method returns True if all the characters are in upper case, otherwise False.Numbers, symbols and spaces are not checked, only alphabet characters.\n",
        "\n",
        "**Syntax:**\n",
        "\n",
        "string.isupper()"
      ]
    },
    {
      "cell_type": "markdown",
      "metadata": {
        "id": "jn8mtVujcWbb"
      },
      "source": [
        "## **m).isalnum()**\n",
        "\n",
        "<p align=\"justify\">The isalnum() method returns True if all the characters are alphanumeric, meaning alphabet letter (a-z) and numbers (0-9),else return False.\n",
        "\n",
        "**Syntax:**\n",
        "\n",
        "string.isalnum()"
      ]
    },
    {
      "cell_type": "markdown",
      "metadata": {
        "id": "Dl6dtzRbcjZh"
      },
      "source": [
        "# **n).isdigit()**\n",
        "\n",
        "\n",
        "<p align=\"justify\">The isdigit() method returns True if all the characters are a numbers (0-9),else return False.\n",
        "\n",
        "**Syntax:**\n",
        "\n",
        "string.isdigit()"
      ]
    },
    {
      "cell_type": "markdown",
      "metadata": {
        "id": "nLoogGNMc653"
      },
      "source": [
        "**Similarly : isalpha(),isidentifier(),isdecimal(),isnumeric(),isspace(),isprintable(),istitle()**"
      ]
    },
    {
      "cell_type": "markdown",
      "metadata": {
        "id": "cJ4qhDlFdq0A"
      },
      "source": [
        "# **o).strip()**\n",
        "\n",
        "<p align=\"justify\">The strip() method removes any leading (spaces at the beginning) and trailing (spaces at the end) characters (space is the default leading character to remove)\n",
        "\n",
        "**Syntax:**\n",
        "\n",
        "string.strip(characters)"
      ]
    },
    {
      "cell_type": "code",
      "source": [
        "str1=\",,,,,,,,,,hello,,,,,,,,,\"\n",
        "str2=str1.strip(\"h,\")\n",
        "print(str2)"
      ],
      "metadata": {
        "colab": {
          "base_uri": "https://localhost:8080/"
        },
        "id": "RXAD6_uGkImS",
        "outputId": "b788d7aa-b477-4981-d59a-bd567062cee5"
      },
      "execution_count": null,
      "outputs": [
        {
          "output_type": "stream",
          "name": "stdout",
          "text": [
            "ello\n"
          ]
        }
      ]
    },
    {
      "cell_type": "markdown",
      "metadata": {
        "id": "44sYGIgpeMNW"
      },
      "source": [
        "# **p).rstrip()**"
      ]
    },
    {
      "cell_type": "markdown",
      "metadata": {
        "id": "uCSSEA2wekT8"
      },
      "source": [
        "<p align=\"justify\">The rstrip() method removes any trailing characters (characters at the end a string), space is the default trailing character to remove."
      ]
    },
    {
      "cell_type": "markdown",
      "metadata": {
        "id": "W4gmcMT3e1WA"
      },
      "source": [
        "# **q).rsplit()**"
      ]
    },
    {
      "cell_type": "markdown",
      "metadata": {
        "id": "LbRYE7UmfFAX"
      },
      "source": [
        "**Difference between split and rsplit:**"
      ]
    },
    {
      "cell_type": "code",
      "source": [
        "str1=\"1,2,3,4,5\"\n",
        "list2=str1.rsplit(\",\",2)\n",
        "print(list2)"
      ],
      "metadata": {
        "colab": {
          "base_uri": "https://localhost:8080/"
        },
        "id": "x_x4fl3God3l",
        "outputId": "fe93b1e9-6c0c-41e6-f984-80740bb2d6e9"
      },
      "execution_count": null,
      "outputs": [
        {
          "output_type": "stream",
          "name": "stdout",
          "text": [
            "['1,2,3', '4', '5']\n"
          ]
        }
      ]
    },
    {
      "cell_type": "markdown",
      "metadata": {
        "id": "y2w1Z2--gU2l"
      },
      "source": [
        "# **r).join()**"
      ]
    },
    {
      "cell_type": "code",
      "source": [
        "str1=\"hello\"\n",
        "list2=list(str1)\n",
        "list2.insert(3,\"3\")\n",
        "str3=\"\".join(list2)\n",
        "print(str3)"
      ],
      "metadata": {
        "colab": {
          "base_uri": "https://localhost:8080/"
        },
        "id": "FQUvmgwZqBij",
        "outputId": "e48afb3f-1c82-4d71-f053-905b19f0287a"
      },
      "execution_count": null,
      "outputs": [
        {
          "output_type": "stream",
          "name": "stdout",
          "text": [
            "hel3lo\n"
          ]
        }
      ]
    },
    {
      "cell_type": "markdown",
      "metadata": {
        "id": "KEowQMuA9bgg"
      },
      "source": [
        "# **S) .find()**\n",
        "\n",
        "<p align=\"justify\">- The find() method finds the first occurrence of the specified value.\n",
        "\n",
        "<p align=\"justify\">- It returns -1 if the value is not found.\n",
        "\n",
        "<p align=\"justify\">- The find() method is almost the same as the index() method, the only difference is that the index() method raises an exception if the value is not found."
      ]
    },
    {
      "cell_type": "markdown",
      "metadata": {
        "id": "tF8dIklx9ofB"
      },
      "source": [
        "**Syntax:**\n",
        "\n",
        "string.find(value, start, end)\n",
        "\n",
        "- value\tRequired. The value to search for\n",
        "start\tOptional. \n",
        "\n",
        "- Where to start the search. Default is 0\n",
        "end\tOptional. \n",
        "\n",
        "- Where to end the search. Default is to the end of the string"
      ]
    }
  ]
}